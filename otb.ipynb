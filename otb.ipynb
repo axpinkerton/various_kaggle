{
 "cells": [
  {
   "cell_type": "code",
   "execution_count": 212,
   "metadata": {},
   "outputs": [],
   "source": [
    "import pandas as pd\n",
    "import numpy as np\n",
    "import pmdarima as pmd\n",
    "import matplotlib.pyplot as plt\n",
    "import re\n",
    "from collections import Counter\n",
    "import math\n",
    "from sklearn.ensemble import GradientBoostingRegressor\n",
    "from sklearn.model_selection import GridSearchCV\n",
    "import itertools"
   ]
  },
  {
   "cell_type": "code",
   "execution_count": 204,
   "metadata": {},
   "outputs": [
    {
     "data": {
      "text/plain": [
       "date\n",
       "6/1/2021     1049106\n",
       "7/1/2021      979638\n",
       "8/1/2021      893384\n",
       "9/1/2021     1322290\n",
       "10/1/2021    1018643\n",
       "11/1/2021    1256253\n",
       "12/1/2021    1025821\n",
       "Name: sls$, dtype: object"
      ]
     },
     "execution_count": 204,
     "metadata": {},
     "output_type": "execute_result"
    }
   ],
   "source": [
    "data=pd.read_csv('/Users/APinkerton/NYC_DS_A/untitled/otb.csv')\n",
    "data.set_index('date',inplace=True)\n",
    "objs=['sls$', 'bopR$', 'recR$', 'FB']\n",
    "for col in objs:\n",
    "    data[col]=data[col].str.replace('$',\"\")\n",
    "    data[col]=data[col].str.replace(',',\"\")\n",
    "data1=data.iloc[0:-7,:]\n",
    "XX=data1[['bopR$', 'recR$', 'FB', 'IG', 'GAW']]\n",
    "X=data[['bopR$', 'recR$', 'FB', 'IG', 'GAW']]\n",
    "y=data['sls$']\n",
    "yy=data1['sls$']\n",
    "test=pd.DataFrame(y[-7::])\n",
    "y[-7::]"
   ]
  },
  {
   "cell_type": "code",
   "execution_count": 183,
   "metadata": {},
   "outputs": [],
   "source": [
    "params={'learning_rate':[.15,.2,.25,.3],'max_depth':[3,4,5],'tol':[0.0001],'n_estimators':[1000,2500,5000]}"
   ]
  },
  {
   "cell_type": "code",
   "execution_count": 175,
   "metadata": {},
   "outputs": [],
   "source": [
    "gbr=GradientBoostingRegressor()\n",
    "gscv=GridSearchCV(gbr,param_grid=params,cv=10)"
   ]
  },
  {
   "cell_type": "code",
   "execution_count": 184,
   "metadata": {},
   "outputs": [
    {
     "data": {
      "text/plain": [
       "GridSearchCV(cv=10, estimator=GradientBoostingRegressor(),\n",
       "             param_grid={'learning_rate': [0.15, 0.2, 0.25, 0.3],\n",
       "                         'max_depth': [3, 4, 5],\n",
       "                         'n_estimators': [1000, 2500, 5000], 'tol': [0.0001]})"
      ]
     },
     "execution_count": 184,
     "metadata": {},
     "output_type": "execute_result"
    }
   ],
   "source": [
    "gscv.fit(data1[['bopR$', 'recR$', 'FB', 'IG', 'GAW']],data1['sls$'])"
   ]
  },
  {
   "cell_type": "code",
   "execution_count": 207,
   "metadata": {},
   "outputs": [
    {
     "name": "stdout",
     "output_type": "stream",
     "text": [
      "1.0\n",
      "{'learning_rate': 0.25, 'max_depth': 4, 'n_estimators': 1000, 'tol': 0.0001}\n"
     ]
    },
    {
     "data": {
      "text/plain": [
       "[(0.343437542280558, 'IG'),\n",
       " (0.2326910693194347, 'FB'),\n",
       " (0.1884377519204297, 'GAW'),\n",
       " (0.13323133037372065, 'bopR$'),\n",
       " (0.10220230610585698, 'recR$')]"
      ]
     },
     "execution_count": 207,
     "metadata": {},
     "output_type": "execute_result"
    }
   ],
   "source": [
    "gscv.best_estimator_.fit(data1[['bopR$', 'recR$', 'FB', 'IG', 'GAW']],data1['sls$'])\n",
    "print(gscv.best_estimator_.score(data1[['bopR$', 'recR$', 'FB', 'IG', 'GAW']],data1['sls$']))\n",
    "print(gscv.best_params_)\n",
    "sorted(list(zip(gscv.best_estimator_.feature_importances_,X.columns)),key=lambda x: x[0],reverse=True)"
   ]
  },
  {
   "cell_type": "code",
   "execution_count": 211,
   "metadata": {},
   "outputs": [
    {
     "data": {
      "text/html": [
       "<div>\n",
       "<style scoped>\n",
       "    .dataframe tbody tr th:only-of-type {\n",
       "        vertical-align: middle;\n",
       "    }\n",
       "\n",
       "    .dataframe tbody tr th {\n",
       "        vertical-align: top;\n",
       "    }\n",
       "\n",
       "    .dataframe thead th {\n",
       "        text-align: right;\n",
       "    }\n",
       "</style>\n",
       "<table border=\"1\" class=\"dataframe\">\n",
       "  <thead>\n",
       "    <tr style=\"text-align: right;\">\n",
       "      <th></th>\n",
       "      <th>pred</th>\n",
       "      <th>sls$</th>\n",
       "      <th>diff</th>\n",
       "    </tr>\n",
       "    <tr>\n",
       "      <th>date</th>\n",
       "      <th></th>\n",
       "      <th></th>\n",
       "      <th></th>\n",
       "    </tr>\n",
       "  </thead>\n",
       "  <tbody>\n",
       "    <tr>\n",
       "      <th>6/1/2021</th>\n",
       "      <td>1.138053e+06</td>\n",
       "      <td>1049106.0</td>\n",
       "      <td>88946.721577</td>\n",
       "    </tr>\n",
       "    <tr>\n",
       "      <th>7/1/2021</th>\n",
       "      <td>9.275936e+05</td>\n",
       "      <td>979638.0</td>\n",
       "      <td>-52044.435611</td>\n",
       "    </tr>\n",
       "    <tr>\n",
       "      <th>8/1/2021</th>\n",
       "      <td>1.061980e+06</td>\n",
       "      <td>893384.0</td>\n",
       "      <td>168596.087025</td>\n",
       "    </tr>\n",
       "    <tr>\n",
       "      <th>9/1/2021</th>\n",
       "      <td>5.251555e+05</td>\n",
       "      <td>1322290.0</td>\n",
       "      <td>-797134.508125</td>\n",
       "    </tr>\n",
       "    <tr>\n",
       "      <th>10/1/2021</th>\n",
       "      <td>1.255160e+06</td>\n",
       "      <td>1018643.0</td>\n",
       "      <td>236516.866026</td>\n",
       "    </tr>\n",
       "    <tr>\n",
       "      <th>11/1/2021</th>\n",
       "      <td>6.566710e+05</td>\n",
       "      <td>1256253.0</td>\n",
       "      <td>-599581.981584</td>\n",
       "    </tr>\n",
       "    <tr>\n",
       "      <th>12/1/2021</th>\n",
       "      <td>1.032877e+06</td>\n",
       "      <td>1025821.0</td>\n",
       "      <td>7056.404726</td>\n",
       "    </tr>\n",
       "  </tbody>\n",
       "</table>\n",
       "</div>"
      ],
      "text/plain": [
       "                   pred       sls$           diff\n",
       "date                                             \n",
       "6/1/2021   1.138053e+06  1049106.0   88946.721577\n",
       "7/1/2021   9.275936e+05   979638.0  -52044.435611\n",
       "8/1/2021   1.061980e+06   893384.0  168596.087025\n",
       "9/1/2021   5.251555e+05  1322290.0 -797134.508125\n",
       "10/1/2021  1.255160e+06  1018643.0  236516.866026\n",
       "11/1/2021  6.566710e+05  1256253.0 -599581.981584\n",
       "12/1/2021  1.032877e+06  1025821.0    7056.404726"
      ]
     },
     "execution_count": 211,
     "metadata": {},
     "output_type": "execute_result"
    }
   ],
   "source": [
    "preds=pd.DataFrame(gscv.best_estimator_.predict(X[-7::]))\n",
    "preds.index=test.index\n",
    "df=pd.concat((preds,test),axis=1)\n",
    "df.columns=['pred','sls$']\n",
    "df['pred']=df['pred'].astype(float)\n",
    "df['sls$']=df['sls$'].astype(float)\n",
    "df['diff']=df['pred']-df['sls$']\n",
    "df"
   ]
  },
  {
   "cell_type": "code",
   "execution_count": 215,
   "metadata": {},
   "outputs": [
    {
     "data": {
      "text/plain": [
       "[0.1, 0.2, 0.3, 0.4, 0.5, 0.6, 0.7, 0.8, 0.9]"
      ]
     },
     "execution_count": 215,
     "metadata": {},
     "output_type": "execute_result"
    }
   ],
   "source": [
    "x = y = z = [ i/10 for i in range(1,10)]\n",
    "p = itertools.product(x,y,z)\n",
    "combs = [e for e in p if np.sum(e) == 1]\n",
    "combs\n",
    "# itertools.product()"
   ]
  },
  {
   "cell_type": "code",
   "execution_count": 61,
   "metadata": {},
   "outputs": [],
   "source": [
    "arim=pmd.auto_arima(y=data1['sls$'],x=data1[['bopR$', 'recR$', 'FB', 'IG', 'GAW']],m=12)"
   ]
  },
  {
   "cell_type": "code",
   "execution_count": 157,
   "metadata": {},
   "outputs": [
    {
     "data": {
      "text/plain": [
       "array([[1., 0., 0.],\n",
       "       [0., 1., 0.],\n",
       "       [0., 0., 1.]])"
      ]
     },
     "execution_count": 157,
     "metadata": {},
     "output_type": "execute_result"
    }
   ],
   "source": [
    "arim.predict(h=7)\n"
   ]
  },
  {
   "cell_type": "code",
   "execution_count": 64,
   "metadata": {},
   "outputs": [],
   "source": [
    "ap=pmd.datasets.load_airpassengers()\n",
    "beer=pmd.datasets.load_ausbeer()\n",
    "aus=pmd.datasets.load_austres()\n",
    "gas=pmd.datasets.load_gasoline()\n",
    "heart=pmd.datasets.load_heartrate()\n",
    "lynx=pmd.datasets.load_lynx()\n",
    "msft=pmd.datasets.load_msft()\n",
    "sun=pmd.datasets.load_sunspots()\n",
    "taylor=pmd.datasets.load_taylor()\n",
    "wine=pmd.datasets.load_wineind()\n",
    "wool=pmd.datasets.load_woolyrnq()"
   ]
  },
  {
   "cell_type": "code",
   "execution_count": 66,
   "metadata": {},
   "outputs": [
    {
     "name": "stdout",
     "output_type": "stream",
     "text": [
      "144\n",
      "212\n",
      "89\n",
      "745\n",
      "150\n",
      "114\n",
      "7983\n",
      "2820\n",
      "4032\n",
      "176\n",
      "119\n"
     ]
    }
   ],
   "source": [
    "print(len(ap))\n",
    "print(len(beer))\n",
    "print(len(aus))\n",
    "print(len(gas))\n",
    "print(len(heart))\n",
    "print(len(lynx))\n",
    "print(len(msft))\n",
    "print(len(sun))\n",
    "print(len(taylor))\n",
    "print(len(wine))\n",
    "print(len(wool))"
   ]
  },
  {
   "cell_type": "code",
   "execution_count": 68,
   "metadata": {},
   "outputs": [],
   "source": [
    "pd.Series(taylor).to_csv('taylor.csv')"
   ]
  },
  {
   "cell_type": "code",
   "execution_count": 69,
   "metadata": {},
   "outputs": [],
   "source": [
    "pd.Series(gas).to_csv('gas.csv')"
   ]
  },
  {
   "cell_type": "code",
   "execution_count": 73,
   "metadata": {},
   "outputs": [
    {
     "data": {
      "text/plain": [
       "36"
      ]
     },
     "execution_count": 73,
     "metadata": {},
     "output_type": "execute_result"
    }
   ],
   "source": [
    "sq=[1,2,3]\n",
    "sq+=[36]\n",
    "sq[sq.index(36)]\n"
   ]
  },
  {
   "cell_type": "code",
   "execution_count": 93,
   "metadata": {},
   "outputs": [],
   "source": [
    "lst=[[1,2],[3,4,5],[6,7],[8,9,[10,11]]]\n",
    "\n",
    "\n",
    "def flatten(lst):\n",
    "    empt=[]\n",
    "    for elem in lst:\n",
    "        if isinstance(elem,list):\n",
    "            flatten(elem)\n",
    "        else:\n",
    "            empt.append(elem)\n",
    "    return empt"
   ]
  },
  {
   "cell_type": "code",
   "execution_count": 96,
   "metadata": {},
   "outputs": [],
   "source": [
    "def flatten(S):\n",
    "    if S == []:\n",
    "        return S\n",
    "    if isinstance(S[0], list):\n",
    "        return flatten(S[0]) + flatten(S[1:])\n",
    "    return S[:1] + flatten(S[1:])"
   ]
  },
  {
   "cell_type": "code",
   "execution_count": 97,
   "metadata": {},
   "outputs": [
    {
     "data": {
      "text/plain": [
       "[1, 2, 3, 4, 5, 6, 7, 8, 9, 10, 11]"
      ]
     },
     "execution_count": 97,
     "metadata": {},
     "output_type": "execute_result"
    }
   ],
   "source": [
    "flatten(lst)"
   ]
  },
  {
   "cell_type": "code",
   "execution_count": 107,
   "metadata": {},
   "outputs": [
    {
     "data": {
      "text/plain": [
       "'dofcatcatdof'"
      ]
     },
     "execution_count": 107,
     "metadata": {},
     "output_type": "execute_result"
    }
   ],
   "source": [
    "var='dogcatcatdog'\n",
    "var[::-1].replace('g','f')[::-1]"
   ]
  },
  {
   "cell_type": "code",
   "execution_count": 113,
   "metadata": {},
   "outputs": [],
   "source": [
    "L=[1,2,3]\n",
    "L.extend(lst)"
   ]
  },
  {
   "cell_type": "code",
   "execution_count": 114,
   "metadata": {},
   "outputs": [
    {
     "data": {
      "text/plain": [
       "[1, 2, 3, [1, 2], [3, 4, 5], [6, 7], [8, 9, [10, 11]]]"
      ]
     },
     "execution_count": 114,
     "metadata": {},
     "output_type": "execute_result"
    }
   ],
   "source": [
    "L"
   ]
  },
  {
   "cell_type": "code",
   "execution_count": 117,
   "metadata": {},
   "outputs": [
    {
     "data": {
      "text/plain": [
       "1"
      ]
     },
     "execution_count": 117,
     "metadata": {},
     "output_type": "execute_result"
    }
   ],
   "source": [
    "my_dict=dict({'a':1,'b':2,'c':3})\n",
    "my_dict.get('a')"
   ]
  },
  {
   "cell_type": "code",
   "execution_count": 132,
   "metadata": {},
   "outputs": [
    {
     "data": {
      "text/plain": [
       "Counter({'t': 3,\n",
       "         'h': 2,\n",
       "         'e': 7,\n",
       "         's': 3,\n",
       "         ' ': 6,\n",
       "         'a': 1,\n",
       "         'r': 2,\n",
       "         'w': 1,\n",
       "         'o': 1,\n",
       "         'd': 1,\n",
       "         'i': 1,\n",
       "         'n': 3,\n",
       "         'm': 1,\n",
       "         'y': 1,\n",
       "         'c': 1})"
      ]
     },
     "execution_count": 132,
     "metadata": {},
     "output_type": "execute_result"
    }
   ],
   "source": [
    "raw_str='these are the words in my sentence'\n",
    "Counter(raw_str)"
   ]
  },
  {
   "cell_type": "code",
   "execution_count": 135,
   "metadata": {},
   "outputs": [
    {
     "data": {
      "text/plain": [
       "['John@gmail.com', 'Thomas@gmail.com', 'Chris@gmail.com']"
      ]
     },
     "execution_count": 135,
     "metadata": {},
     "output_type": "execute_result"
    }
   ],
   "source": [
    "names='John Thomas Chris'\n",
    "nm_lst=names.split(' ')\n",
    "emails=[]\n",
    "for nm in nm_lst:\n",
    "    emails.append(nm+'@gmail.com')\n",
    "emails"
   ]
  },
  {
   "cell_type": "code",
   "execution_count": null,
   "metadata": {},
   "outputs": [],
   "source": []
  },
  {
   "cell_type": "code",
   "execution_count": null,
   "metadata": {},
   "outputs": [],
   "source": []
  },
  {
   "cell_type": "code",
   "execution_count": null,
   "metadata": {},
   "outputs": [],
   "source": []
  }
 ],
 "metadata": {
  "kernelspec": {
   "display_name": "Python 3",
   "language": "python",
   "name": "python3"
  },
  "language_info": {
   "codemirror_mode": {
    "name": "ipython",
    "version": 3
   },
   "file_extension": ".py",
   "mimetype": "text/x-python",
   "name": "python",
   "nbconvert_exporter": "python",
   "pygments_lexer": "ipython3",
   "version": "3.8.5"
  }
 },
 "nbformat": 4,
 "nbformat_minor": 4
}
