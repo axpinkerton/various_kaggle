{
 "cells": [
  {
   "cell_type": "code",
   "execution_count": 16,
   "metadata": {},
   "outputs": [],
   "source": [
    "import pandas as pd\n",
    "import numpy as np \n",
    "import sklearn\n",
    "import matplotlib.pyplot as plt\n",
    "import pmdarima as pmd\n",
    "from sklearn.datasets import load_boston"
   ]
  },
  {
   "cell_type": "code",
   "execution_count": 21,
   "metadata": {},
   "outputs": [],
   "source": [
    "boston=load_boston()\n",
    "data=pd.DataFrame(boston.data)\n",
    "data.columns = boston.feature_names\n",
    "data['Price']=boston.target\n",
    "X=data[['CRIM', 'ZN', 'INDUS', 'CHAS', 'NOX', 'RM', 'AGE', 'DIS', 'RAD', 'TAX',\n",
    "       'PTRATIO', 'B', 'LSTAT']]\n",
    "y=data['Price']"
   ]
  },
  {
   "cell_type": "code",
   "execution_count": 22,
   "metadata": {},
   "outputs": [],
   "source": [
    "X_train,X_test, y_train, t_test=sklearn.model_selection.train_test_split(X,y,test_size=.2)"
   ]
  },
  {
   "cell_type": "code",
   "execution_count": 49,
   "metadata": {},
   "outputs": [
    {
     "data": {
      "text/plain": [
       "GridSearchCV(cv=10, estimator=GradientBoostingRegressor(),\n",
       "             param_grid={'learning_rate': [0.05, 0.1, 0.25, 0.5],\n",
       "                         'n_estimators': [250, 500, 1000]})"
      ]
     },
     "execution_count": 49,
     "metadata": {},
     "output_type": "execute_result"
    }
   ],
   "source": [
    "from sklearn.ensemble import GradientBoostingRegressor\n",
    "\n",
    "gbr = sklearn.ensemble.GradientBoostingRegressor()\n",
    "params={'learning_rate':[.05,.1,.25,.5],'n_estimators':[250,500,1000]}\n",
    "gbrcv=sklearn.model_selection.GridSearchCV(gbr,cv=10,param_grid=params)\n",
    "gbrcv.fit(X,y)"
   ]
  },
  {
   "cell_type": "code",
   "execution_count": 62,
   "metadata": {},
   "outputs": [
    {
     "data": {
      "text/plain": [
       "{'alpha': 0.9,\n",
       " 'ccp_alpha': 0.0,\n",
       " 'criterion': 'friedman_mse',\n",
       " 'init': None,\n",
       " 'learning_rate': 0.05,\n",
       " 'loss': 'ls',\n",
       " 'max_depth': 3,\n",
       " 'max_features': None,\n",
       " 'max_leaf_nodes': None,\n",
       " 'min_impurity_decrease': 0.0,\n",
       " 'min_impurity_split': None,\n",
       " 'min_samples_leaf': 1,\n",
       " 'min_samples_split': 2,\n",
       " 'min_weight_fraction_leaf': 0.0,\n",
       " 'n_estimators': 250,\n",
       " 'n_iter_no_change': None,\n",
       " 'random_state': None,\n",
       " 'subsample': 1.0,\n",
       " 'tol': 0.0001,\n",
       " 'validation_fraction': 0.1,\n",
       " 'verbose': 0,\n",
       " 'warm_start': False}"
      ]
     },
     "execution_count": 62,
     "metadata": {},
     "output_type": "execute_result"
    }
   ],
   "source": [
    "gbrcv.best_estimator_.score(X,y)\n",
    "sorted(list(zip(gbrcv.best_estimator_.feature_importances_,X.columns)),key=lambda f:f[0],reverse=True)\n",
    "\n",
    "gbrcv.best_estimator_.get_params()"
   ]
  },
  {
   "cell_type": "code",
   "execution_count": 66,
   "metadata": {},
   "outputs": [
    {
     "name": "stdout",
     "output_type": "stream",
     "text": [
      "135200\n",
      "145600\n",
      "156000\n"
     ]
    }
   ],
   "source": [
    "print(65*2080)\n",
    "print(70*2080)\n",
    "print(75*2080)"
   ]
  },
  {
   "cell_type": "code",
   "execution_count": 73,
   "metadata": {},
   "outputs": [
    {
     "name": "stdout",
     "output_type": "stream",
     "text": [
      "0\n",
      "1\n",
      "2\n",
      "Three\n",
      "4\n",
      "Five\n",
      "Three\n",
      "7\n",
      "8\n",
      "Three\n",
      "Five\n",
      "11\n",
      "Three\n",
      "13\n",
      "14\n",
      "ThreeFive\n",
      "16\n",
      "17\n",
      "Three\n",
      "19\n",
      "Five\n",
      "Three\n",
      "22\n",
      "23\n",
      "Three\n",
      "Five\n",
      "26\n",
      "Three\n",
      "28\n",
      "29\n",
      "ThreeFive\n",
      "31\n",
      "32\n",
      "Three\n",
      "34\n",
      "Five\n",
      "Three\n",
      "37\n",
      "38\n",
      "Three\n",
      "Five\n",
      "41\n",
      "Three\n",
      "43\n",
      "44\n",
      "ThreeFive\n",
      "46\n",
      "47\n",
      "Three\n",
      "49\n",
      "Five\n",
      "Three\n",
      "52\n",
      "53\n",
      "Three\n",
      "Five\n",
      "56\n",
      "Three\n",
      "58\n",
      "59\n",
      "ThreeFive\n",
      "61\n",
      "62\n",
      "Three\n",
      "64\n",
      "Five\n",
      "Three\n",
      "67\n",
      "68\n",
      "Three\n",
      "Five\n",
      "71\n",
      "Three\n",
      "73\n",
      "74\n",
      "ThreeFive\n",
      "76\n",
      "77\n",
      "Three\n",
      "79\n",
      "Five\n",
      "Three\n",
      "82\n",
      "83\n",
      "Three\n",
      "Five\n",
      "86\n",
      "Three\n",
      "88\n",
      "89\n",
      "ThreeFive\n",
      "91\n",
      "92\n",
      "Three\n",
      "94\n",
      "Five\n",
      "Three\n",
      "97\n",
      "98\n",
      "Three\n",
      "Five\n"
     ]
    }
   ],
   "source": [
    "for x in list(range(101)):\n",
    "    if x!=0:\n",
    "        if x%3==0:\n",
    "            if x%5==0:\n",
    "                print('ThreeFive')\n",
    "            else:\n",
    "                print('Three')\n",
    "        elif x%5==0:\n",
    "            print('Five')\n",
    "        else:\n",
    "            print(x)\n",
    "    else:\n",
    "        print(x)"
   ]
  },
  {
   "cell_type": "code",
   "execution_count": 77,
   "metadata": {},
   "outputs": [],
   "source": [
    "def number_word(num,wrd):\n",
    "    for x in list(range(100)):\n",
    "        if x!=0:\n",
    "            if x%num==0:\n",
    "                print(wrd)\n",
    "            else:\n",
    "                print(x)\n",
    "        else:\n",
    "            print(x)"
   ]
  },
  {
   "cell_type": "code",
   "execution_count": 78,
   "metadata": {},
   "outputs": [
    {
     "name": "stdout",
     "output_type": "stream",
     "text": [
      "0\n",
      "1\n",
      "2\n",
      "3\n",
      "4\n",
      "5\n",
      "6\n",
      "7\n",
      "8\n",
      "9\n",
      "10\n",
      "11\n",
      "12\n",
      "13\n",
      "14\n",
      "15\n",
      "16\n",
      "Seventeen\n",
      "18\n",
      "19\n",
      "20\n",
      "21\n",
      "22\n",
      "23\n",
      "24\n",
      "25\n",
      "26\n",
      "27\n",
      "28\n",
      "29\n",
      "30\n",
      "31\n",
      "32\n",
      "33\n",
      "Seventeen\n",
      "35\n",
      "36\n",
      "37\n",
      "38\n",
      "39\n",
      "40\n",
      "41\n",
      "42\n",
      "43\n",
      "44\n",
      "45\n",
      "46\n",
      "47\n",
      "48\n",
      "49\n",
      "50\n",
      "Seventeen\n",
      "52\n",
      "53\n",
      "54\n",
      "55\n",
      "56\n",
      "57\n",
      "58\n",
      "59\n",
      "60\n",
      "61\n",
      "62\n",
      "63\n",
      "64\n",
      "65\n",
      "66\n",
      "67\n",
      "Seventeen\n",
      "69\n",
      "70\n",
      "71\n",
      "72\n",
      "73\n",
      "74\n",
      "75\n",
      "76\n",
      "77\n",
      "78\n",
      "79\n",
      "80\n",
      "81\n",
      "82\n",
      "83\n",
      "84\n",
      "Seventeen\n",
      "86\n",
      "87\n",
      "88\n",
      "89\n",
      "90\n",
      "91\n",
      "92\n",
      "93\n",
      "94\n",
      "95\n",
      "96\n",
      "97\n",
      "98\n",
      "99\n"
     ]
    }
   ],
   "source": [
    "number_word(num=17,wrd='Seventeen')"
   ]
  },
  {
   "cell_type": "code",
   "execution_count": null,
   "metadata": {},
   "outputs": [],
   "source": []
  }
 ],
 "metadata": {
  "kernelspec": {
   "display_name": "Python 3",
   "language": "python",
   "name": "python3"
  },
  "language_info": {
   "codemirror_mode": {
    "name": "ipython",
    "version": 3
   },
   "file_extension": ".py",
   "mimetype": "text/x-python",
   "name": "python",
   "nbconvert_exporter": "python",
   "pygments_lexer": "ipython3",
   "version": "3.8.5"
  }
 },
 "nbformat": 4,
 "nbformat_minor": 4
}
